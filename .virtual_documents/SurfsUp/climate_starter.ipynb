%matplotlib inline
from matplotlib import style
style.use('fivethirtyeight')
import matplotlib.pyplot as plt


import numpy as np
import pandas as pd
import datetime as dt





# Python SQL toolkit and Object Relational Mapper
import sqlalchemy
from sqlalchemy.ext.automap import automap_base
from sqlalchemy.orm import Session
from sqlalchemy import create_engine, func, text


# create engine to hawaii.sqlite
engine = create_engine("sqlite:///Resources/hawaii.sqlite")


# reflect an existing database into a new model
Base = automap_base()

# reflect the tables
Base.prepare(autoload_with=engine)



# View all of the classes that automap found
Base.classes.keys()


# Save references to each table
measurement = Base.classes.measurement
station = Base.classes.station


# Create our session (link) from Python to the DB
session = Session(engine)





# Find the most recent date in the data set.
with engine.connect() as conn:
    result = conn.execute(text('SELECT MAX(date) FROM measurement')).fetchall()
    print(result)


# Design a query to retrieve the last 12 months of precipitation data and plot the results. 
# Starting from the most recent data point in the database. '

# Calculate the date one year from the last date in data set.
last_year = dt.date(2017, 8, 23)-dt.timedelta(days=365)

# Perform a query to retrieve the data and precipitation scores
query = text("""
    SELECT date, prcp
    FROM measurement
    WHERE date >= DATE('2017-08-23', '-12 months')
    ORDER BY date desc
""")

with engine.connect() as conn:
    result = conn.execute(query).fetchall()

# Save the query results as a Pandas DataFrame. Explicitly set the column names
precip_df = pd.DataFrame(result, columns =['Date', 'Precipitation']).sort_values('Date',ascending=True).dropna()

# Sort the dataframe by date
sorted_df = precip_df.sort_values(by='Date')

# Use Pandas Plotting with Matplotlib to plot the data
chart = sorted_df.plot(x='Date', y='Precipitation')
plt.xticks(rotation=90)
plt.show()


# Use Pandas to calculate the summary statistics for the precipitation data
sorted_df.describe()





# Design a query to calculate the total number of stations in the dataset
query = text("""
    SELECT COUNT(*)
    FROM station
""")

with engine.connect() as conn:
    result = conn.execute(query).fetchall()
    print(result)


# Design a query to find the most active stations (i.e. which stations have the most rows?)
# List the stations and their counts in descending order.
query = text("""
    SELECT s.station, COUNT(m.id) AS measurements
    FROM station s
    INNER JOIN measurement m ON s.station = m.station
    GROUP BY s.station
    ORDER BY measurements DESC
""")

with engine.connect() as conn:
    result = conn.execute(query).fetchall()
    print(result)


# Using the most active station id from the previous query, calculate the lowest, highest, and average temperature.
query = text("""
    SELECT min(tobs), max(tobs), avg(tobs)
    FROM measurement
    WHERE station = 'USC00519281'
""")

with engine.connect() as conn:
    result = conn.execute(query).fetchall()
    print(result)


# Using the most active station id
# Query the last 12 months of temperature observation data for this station and plot the results as a histogram
query = text("""
    SELECT date, tobs as Frequency
    FROM measurement
    WHERE station = 'USC00519281' and
    date >= DATE('2017-08-23', '-12 months')
""")

with engine.connect() as conn:
    result = conn.execute(query).fetchall()


df = pd.DataFrame(data=result, columns=["date", "tobs"])

plt.hist(df['tobs'],12, label="tobs")
plt.ylabel("Frequency")
plt.legend()
plt.show()





# Close Session
session.close()



