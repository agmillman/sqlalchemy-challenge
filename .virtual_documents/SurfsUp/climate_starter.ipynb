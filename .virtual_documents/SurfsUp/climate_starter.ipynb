%matplotlib inline
from matplotlib import style
style.use('fivethirtyeight')
import matplotlib.pyplot as plt


import numpy as np
import pandas as pd
import datetime as dt





# Python SQL toolkit and Object Relational Mapper
import sqlalchemy
from sqlalchemy.ext.automap import automap_base
from sqlalchemy.orm import Session
from sqlalchemy import create_engine, func, text

#from sqlalchemy.ext.declarative import declarative_base
#from sqlalchemy import Column, Integer, String, Float, Date
#from sqlalchemy.orm import sessionmaker
#import datetime as dt
#import pandas as pd
#import matplotlib.pyplot as plt


# create engine to hawaii.sqlite
engine = create_engine("sqlite:///Resources/hawaii.sqlite")
conn = engine.connect()


# reflect an existing database into a new model
#Base.metadata.create_all(engine)
Base = automap_base()

# reflect the tables
Base.prepare(autoload_with=engine)



# View all of the classes that automap found
Base.classes.keys()


# Save references to each table
measurement = Base.classes.measurement
station = Base.classes.station


# Create our session (link) from Python to the DB
session = Session(engine)





# Find the most recent date in the data set.
most_recent_date = session.query(func.max(measurement.date)).scalar()
print(most_recent_date)


# Design a query to retrieve the last 12 months of precipitation data and plot the results. 
# Starting from the most recent data point in the database. '

# Calculate the date one year from the last date in data set.
last_year = dt.datetime.strptime(most_recent_date, "%Y-%m-%d") - dt.timedelta(days=365)

# Perform a query to retrieve the data and precipitation scores
precip_data = session.query(measurement.date, measurement.prcp).filter(measurement.date >= last_year).order_by(measurement.date.desc()).all()

# Save the query results as a Pandas DataFrame. Explicitly set the column names
precip_df = pd.DataFrame(precip_data, columns=['Date', 'Precipitation']).dropna().sort_values('Date')

# Sort the dataframe by date
sorted_df = precip_df.sort_values(by='Date')

# Use Pandas Plotting with Matplotlib to plot the data
chart = sorted_df.plot(x='Date', y='Precipitation')
plt.xticks(rotation=90)
plt.show()


# Use Pandas to calculate the summary statistics for the precipitation data
sorted_df.describe()





# Design a query to calculate the total number of stations in the dataset
total_stations = session.query(func.count(station.station)).scalar()
print(total_stations)


# Design a query to find the most active stations (i.e. which stations have the most rows?)
# List the stations and their counts in descending order.
active_stations = session.query(station.station, func.count(measurement.id).label('measurements'))\
                         .join(measurement, station.station == measurement.station)\
                         .group_by(station.station)\
                         .order_by(func.count(measurement.id).desc())\
                         .all()

for station, count in active_stations:
    print(station, count)


# Using the most active station id from the previous query, calculate the lowest, highest, and average temperature.
station_id = 'USC00519281'

# Query to get the min, max, and avg temperature for the most active station
temperature_stats = session.query(func.min(measurement.tobs), 
                                  func.max(measurement.tobs), 
                                  func.avg(measurement.tobs))\
                           .filter(measurement.station == station_id)\
                           .all()

print(temperature_stats)


# Using the most active station id
# Query the last 12 months of temperature observation data for this station and plot the results as a histogram
temp_data = session.query(measurement.date, measurement.tobs)\
                   .filter(measurement.station == station_id)\
                   .filter(measurement.date >= last_year)\
                   .all()

temp_df = pd.DataFrame(temp_data, columns=['Date', 'tobs'])

plt.hist(temp_df['tobs'], bins=12, label='tobs')
plt.ylabel('Frequency')
plt.legend()
plt.show()





# Close Session
session.close()



